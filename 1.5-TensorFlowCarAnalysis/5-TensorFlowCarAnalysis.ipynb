{
 "cells": [
  {
   "cell_type": "code",
   "execution_count": 1,
   "id": "80297cab",
   "metadata": {},
   "outputs": [],
   "source": [
    "import pandas as pd\n",
    "import numpy as np\n",
    "import matplotlib.pyplot as plt\n",
    "import seaborn as sns"
   ]
  },
  {
   "cell_type": "code",
   "execution_count": 2,
   "id": "cc6e43ce",
   "metadata": {},
   "outputs": [],
   "source": [
    "data = pd.read_excel(\"merc.xlsx\")"
   ]
  },
  {
   "cell_type": "code",
   "execution_count": 3,
   "id": "ee9956b4",
   "metadata": {},
   "outputs": [
    {
     "data": {
      "text/html": [
       "<div>\n",
       "<style scoped>\n",
       "    .dataframe tbody tr th:only-of-type {\n",
       "        vertical-align: middle;\n",
       "    }\n",
       "\n",
       "    .dataframe tbody tr th {\n",
       "        vertical-align: top;\n",
       "    }\n",
       "\n",
       "    .dataframe thead th {\n",
       "        text-align: right;\n",
       "    }\n",
       "</style>\n",
       "<table border=\"1\" class=\"dataframe\">\n",
       "  <thead>\n",
       "    <tr style=\"text-align: right;\">\n",
       "      <th></th>\n",
       "      <th>year</th>\n",
       "      <th>price</th>\n",
       "      <th>transmission</th>\n",
       "      <th>mileage</th>\n",
       "      <th>tax</th>\n",
       "      <th>mpg</th>\n",
       "      <th>engineSize</th>\n",
       "    </tr>\n",
       "  </thead>\n",
       "  <tbody>\n",
       "    <tr>\n",
       "      <th>0</th>\n",
       "      <td>2005</td>\n",
       "      <td>5200</td>\n",
       "      <td>Automatic</td>\n",
       "      <td>63000</td>\n",
       "      <td>325</td>\n",
       "      <td>32.1</td>\n",
       "      <td>1.8</td>\n",
       "    </tr>\n",
       "    <tr>\n",
       "      <th>1</th>\n",
       "      <td>2017</td>\n",
       "      <td>34948</td>\n",
       "      <td>Automatic</td>\n",
       "      <td>27000</td>\n",
       "      <td>20</td>\n",
       "      <td>61.4</td>\n",
       "      <td>2.1</td>\n",
       "    </tr>\n",
       "    <tr>\n",
       "      <th>2</th>\n",
       "      <td>2016</td>\n",
       "      <td>49948</td>\n",
       "      <td>Automatic</td>\n",
       "      <td>6200</td>\n",
       "      <td>555</td>\n",
       "      <td>28.0</td>\n",
       "      <td>5.5</td>\n",
       "    </tr>\n",
       "    <tr>\n",
       "      <th>3</th>\n",
       "      <td>2016</td>\n",
       "      <td>61948</td>\n",
       "      <td>Automatic</td>\n",
       "      <td>16000</td>\n",
       "      <td>325</td>\n",
       "      <td>30.4</td>\n",
       "      <td>4.0</td>\n",
       "    </tr>\n",
       "    <tr>\n",
       "      <th>4</th>\n",
       "      <td>2016</td>\n",
       "      <td>73948</td>\n",
       "      <td>Automatic</td>\n",
       "      <td>4000</td>\n",
       "      <td>325</td>\n",
       "      <td>30.1</td>\n",
       "      <td>4.0</td>\n",
       "    </tr>\n",
       "  </tbody>\n",
       "</table>\n",
       "</div>"
      ],
      "text/plain": [
       "   year  price transmission  mileage  tax   mpg  engineSize\n",
       "0  2005   5200    Automatic    63000  325  32.1         1.8\n",
       "1  2017  34948    Automatic    27000   20  61.4         2.1\n",
       "2  2016  49948    Automatic     6200  555  28.0         5.5\n",
       "3  2016  61948    Automatic    16000  325  30.4         4.0\n",
       "4  2016  73948    Automatic     4000  325  30.1         4.0"
      ]
     },
     "execution_count": 3,
     "metadata": {},
     "output_type": "execute_result"
    }
   ],
   "source": [
    "data.head()"
   ]
  },
  {
   "cell_type": "code",
   "execution_count": 4,
   "id": "94ac06a3",
   "metadata": {},
   "outputs": [
    {
     "data": {
      "text/html": [
       "<div>\n",
       "<style scoped>\n",
       "    .dataframe tbody tr th:only-of-type {\n",
       "        vertical-align: middle;\n",
       "    }\n",
       "\n",
       "    .dataframe tbody tr th {\n",
       "        vertical-align: top;\n",
       "    }\n",
       "\n",
       "    .dataframe thead th {\n",
       "        text-align: right;\n",
       "    }\n",
       "</style>\n",
       "<table border=\"1\" class=\"dataframe\">\n",
       "  <thead>\n",
       "    <tr style=\"text-align: right;\">\n",
       "      <th></th>\n",
       "      <th>year</th>\n",
       "      <th>price</th>\n",
       "      <th>mileage</th>\n",
       "      <th>tax</th>\n",
       "      <th>mpg</th>\n",
       "      <th>engineSize</th>\n",
       "    </tr>\n",
       "  </thead>\n",
       "  <tbody>\n",
       "    <tr>\n",
       "      <th>count</th>\n",
       "      <td>13119.000000</td>\n",
       "      <td>13119.000000</td>\n",
       "      <td>13119.000000</td>\n",
       "      <td>13119.000000</td>\n",
       "      <td>13119.000000</td>\n",
       "      <td>13119.000000</td>\n",
       "    </tr>\n",
       "    <tr>\n",
       "      <th>mean</th>\n",
       "      <td>2017.296288</td>\n",
       "      <td>24698.596920</td>\n",
       "      <td>21949.559037</td>\n",
       "      <td>129.972178</td>\n",
       "      <td>55.155843</td>\n",
       "      <td>2.071530</td>\n",
       "    </tr>\n",
       "    <tr>\n",
       "      <th>std</th>\n",
       "      <td>2.224709</td>\n",
       "      <td>11842.675542</td>\n",
       "      <td>21176.512267</td>\n",
       "      <td>65.260286</td>\n",
       "      <td>15.220082</td>\n",
       "      <td>0.572426</td>\n",
       "    </tr>\n",
       "    <tr>\n",
       "      <th>min</th>\n",
       "      <td>1970.000000</td>\n",
       "      <td>650.000000</td>\n",
       "      <td>1.000000</td>\n",
       "      <td>0.000000</td>\n",
       "      <td>1.100000</td>\n",
       "      <td>0.000000</td>\n",
       "    </tr>\n",
       "    <tr>\n",
       "      <th>25%</th>\n",
       "      <td>2016.000000</td>\n",
       "      <td>17450.000000</td>\n",
       "      <td>6097.500000</td>\n",
       "      <td>125.000000</td>\n",
       "      <td>45.600000</td>\n",
       "      <td>1.800000</td>\n",
       "    </tr>\n",
       "    <tr>\n",
       "      <th>50%</th>\n",
       "      <td>2018.000000</td>\n",
       "      <td>22480.000000</td>\n",
       "      <td>15189.000000</td>\n",
       "      <td>145.000000</td>\n",
       "      <td>56.500000</td>\n",
       "      <td>2.000000</td>\n",
       "    </tr>\n",
       "    <tr>\n",
       "      <th>75%</th>\n",
       "      <td>2019.000000</td>\n",
       "      <td>28980.000000</td>\n",
       "      <td>31779.500000</td>\n",
       "      <td>145.000000</td>\n",
       "      <td>64.200000</td>\n",
       "      <td>2.100000</td>\n",
       "    </tr>\n",
       "    <tr>\n",
       "      <th>max</th>\n",
       "      <td>2020.000000</td>\n",
       "      <td>159999.000000</td>\n",
       "      <td>259000.000000</td>\n",
       "      <td>580.000000</td>\n",
       "      <td>217.300000</td>\n",
       "      <td>6.200000</td>\n",
       "    </tr>\n",
       "  </tbody>\n",
       "</table>\n",
       "</div>"
      ],
      "text/plain": [
       "               year          price        mileage           tax           mpg  \\\n",
       "count  13119.000000   13119.000000   13119.000000  13119.000000  13119.000000   \n",
       "mean    2017.296288   24698.596920   21949.559037    129.972178     55.155843   \n",
       "std        2.224709   11842.675542   21176.512267     65.260286     15.220082   \n",
       "min     1970.000000     650.000000       1.000000      0.000000      1.100000   \n",
       "25%     2016.000000   17450.000000    6097.500000    125.000000     45.600000   \n",
       "50%     2018.000000   22480.000000   15189.000000    145.000000     56.500000   \n",
       "75%     2019.000000   28980.000000   31779.500000    145.000000     64.200000   \n",
       "max     2020.000000  159999.000000  259000.000000    580.000000    217.300000   \n",
       "\n",
       "         engineSize  \n",
       "count  13119.000000  \n",
       "mean       2.071530  \n",
       "std        0.572426  \n",
       "min        0.000000  \n",
       "25%        1.800000  \n",
       "50%        2.000000  \n",
       "75%        2.100000  \n",
       "max        6.200000  "
      ]
     },
     "execution_count": 4,
     "metadata": {},
     "output_type": "execute_result"
    }
   ],
   "source": [
    "data.describe()"
   ]
  },
  {
   "cell_type": "code",
   "execution_count": 5,
   "id": "3d57ce9c",
   "metadata": {},
   "outputs": [
    {
     "data": {
      "text/plain": [
       "year            0\n",
       "price           0\n",
       "transmission    0\n",
       "mileage         0\n",
       "tax             0\n",
       "mpg             0\n",
       "engineSize      0\n",
       "dtype: int64"
      ]
     },
     "execution_count": 5,
     "metadata": {},
     "output_type": "execute_result"
    }
   ],
   "source": [
    "data.isnull().sum()"
   ]
  },
  {
   "cell_type": "code",
   "execution_count": 6,
   "id": "6fc1b5e0",
   "metadata": {},
   "outputs": [
    {
     "data": {
      "text/plain": [
       "<seaborn.axisgrid.FacetGrid at 0x21195a84f70>"
      ]
     },
     "execution_count": 6,
     "metadata": {},
     "output_type": "execute_result"
    },
    {
     "data": {
      "image/png": "[encoded data removed]",
      "text/plain": [
       "<Figure size 360x360 with 1 Axes>"
      ]
     },
     "metadata": {
      "needs_background": "light"
     },
     "output_type": "display_data"
    }
   ],
   "source": [
    "sns.displot(data[\"price\"])\n",
    "# outlier fiyatların üstesinden gelmeliyiz"
   ]
  },
  {
   "cell_type": "code",
   "execution_count": 7,
   "id": "9ec1a2d3",
   "metadata": {},
   "outputs": [
    {
     "name": "stderr",
     "output_type": "stream",
     "text": [
      "C:\\ProgramData\\Anaconda3\\lib\\site-packages\\seaborn\\_decorators.py:36: FutureWarning: Pass the following variable as a keyword arg: x. From version 0.12, the only valid positional argument will be `data`, and passing other arguments without an explicit keyword will result in an error or misinterpretation.\n",
      "  warnings.warn(\n"
     ]
    },
    {
     "data": {
      "text/plain": [
       "<AxesSubplot:xlabel='year', ylabel='count'>"
      ]
     },
     "execution_count": 7,
     "metadata": {},
     "output_type": "execute_result"
    },
    {
     "data": {
      "image/png": "[encoded data removed]",
      "text/plain": [
       "<Figure size 432x288 with 1 Axes>"
      ]
     },
     "metadata": {
      "needs_background": "light"
     },
     "output_type": "display_data"
    }
   ],
   "source": [
    "sns.countplot(data[\"year\"])"
   ]
  },
  {
   "cell_type": "code",
   "execution_count": 8,
   "id": "468022db",
   "metadata": {},
   "outputs": [
    {
     "data": {
      "text/plain": [
       "<AxesSubplot:>"
      ]
     },
     "execution_count": 8,
     "metadata": {},
     "output_type": "execute_result"
    },
    {
     "data": {
      "image/png": "[encoded data removed]",
      "text/plain": [
       "<Figure size 432x288 with 2 Axes>"
      ]
     },
     "metadata": {
      "needs_background": "light"
     },
     "output_type": "display_data"
    }
   ],
   "source": [
    "sns.heatmap(data.corr(), annot = True)"
   ]
  },
  {
   "cell_type": "code",
   "execution_count": 9,
   "id": "b448b4c8",
   "metadata": {},
   "outputs": [
    {
     "data": {
      "text/plain": [
       "mileage      -0.537214\n",
       "mpg          -0.438445\n",
       "tax           0.268717\n",
       "engineSize    0.516126\n",
       "year          0.520712\n",
       "price         1.000000\n",
       "Name: price, dtype: float64"
      ]
     },
     "execution_count": 9,
     "metadata": {},
     "output_type": "execute_result"
    }
   ],
   "source": [
    "data.corr()[\"price\"].sort_values()"
   ]
  },
  {
   "cell_type": "code",
   "execution_count": 10,
   "id": "595571c5",
   "metadata": {},
   "outputs": [
    {
     "data": {
      "text/plain": [
       "<AxesSubplot:xlabel='mileage', ylabel='price'>"
      ]
     },
     "execution_count": 10,
     "metadata": {},
     "output_type": "execute_result"
    },
    {
     "data": {
      "image/png": "[encoded data removed]",
      "text/plain": [
       "<Figure size 432x288 with 1 Axes>"
      ]
     },
     "metadata": {
      "needs_background": "light"
     },
     "output_type": "display_data"
    }
   ],
   "source": [
    "sns.scatterplot(x=\"mileage\", y=\"price\", data=data)"
   ]
  },
  {
   "cell_type": "markdown",
   "id": "31f1e1e0",
   "metadata": {},
   "source": [
    "Yüksek fiyatlı araçları modelimizi bozmaması için verimizden çıkarabiliriz böylece daha doğru kararlar verebiliriz. Outlier verileri çıkarmak için verimizdeki en yüksek fiyatların %1'ini çıkarırsak 13119 adet verimizden 131 adet çıkarmış oluruz böylece verimiz genel hatlarıyla bozulmayacak ve daha sağlıklı kararlar verebilecek bir hal alacak."
   ]
  },
  {
   "cell_type": "code",
   "execution_count": 11,
   "id": "7abf171a",
   "metadata": {},
   "outputs": [
    {
     "data": {
      "text/html": [
       "<div>\n",
       "<style scoped>\n",
       "    .dataframe tbody tr th:only-of-type {\n",
       "        vertical-align: middle;\n",
       "    }\n",
       "\n",
       "    .dataframe tbody tr th {\n",
       "        vertical-align: top;\n",
       "    }\n",
       "\n",
       "    .dataframe thead th {\n",
       "        text-align: right;\n",
       "    }\n",
       "</style>\n",
       "<table border=\"1\" class=\"dataframe\">\n",
       "  <thead>\n",
       "    <tr style=\"text-align: right;\">\n",
       "      <th></th>\n",
       "      <th>year</th>\n",
       "      <th>price</th>\n",
       "      <th>transmission</th>\n",
       "      <th>mileage</th>\n",
       "      <th>tax</th>\n",
       "      <th>mpg</th>\n",
       "      <th>engineSize</th>\n",
       "    </tr>\n",
       "  </thead>\n",
       "  <tbody>\n",
       "    <tr>\n",
       "      <th>6199</th>\n",
       "      <td>2020</td>\n",
       "      <td>159999</td>\n",
       "      <td>Semi-Auto</td>\n",
       "      <td>1350</td>\n",
       "      <td>145</td>\n",
       "      <td>21.4</td>\n",
       "      <td>4.0</td>\n",
       "    </tr>\n",
       "    <tr>\n",
       "      <th>10044</th>\n",
       "      <td>2020</td>\n",
       "      <td>154998</td>\n",
       "      <td>Automatic</td>\n",
       "      <td>3000</td>\n",
       "      <td>150</td>\n",
       "      <td>21.4</td>\n",
       "      <td>4.0</td>\n",
       "    </tr>\n",
       "    <tr>\n",
       "      <th>5</th>\n",
       "      <td>2011</td>\n",
       "      <td>149948</td>\n",
       "      <td>Automatic</td>\n",
       "      <td>3000</td>\n",
       "      <td>570</td>\n",
       "      <td>21.4</td>\n",
       "      <td>6.2</td>\n",
       "    </tr>\n",
       "    <tr>\n",
       "      <th>8737</th>\n",
       "      <td>2019</td>\n",
       "      <td>140319</td>\n",
       "      <td>Semi-Auto</td>\n",
       "      <td>785</td>\n",
       "      <td>150</td>\n",
       "      <td>22.1</td>\n",
       "      <td>4.0</td>\n",
       "    </tr>\n",
       "    <tr>\n",
       "      <th>6386</th>\n",
       "      <td>2018</td>\n",
       "      <td>139995</td>\n",
       "      <td>Semi-Auto</td>\n",
       "      <td>13046</td>\n",
       "      <td>145</td>\n",
       "      <td>21.4</td>\n",
       "      <td>4.0</td>\n",
       "    </tr>\n",
       "    <tr>\n",
       "      <th>8</th>\n",
       "      <td>2019</td>\n",
       "      <td>139948</td>\n",
       "      <td>Automatic</td>\n",
       "      <td>12000</td>\n",
       "      <td>145</td>\n",
       "      <td>21.4</td>\n",
       "      <td>4.0</td>\n",
       "    </tr>\n",
       "    <tr>\n",
       "      <th>9133</th>\n",
       "      <td>2019</td>\n",
       "      <td>139559</td>\n",
       "      <td>Semi-Auto</td>\n",
       "      <td>1000</td>\n",
       "      <td>145</td>\n",
       "      <td>22.1</td>\n",
       "      <td>4.0</td>\n",
       "    </tr>\n",
       "    <tr>\n",
       "      <th>8821</th>\n",
       "      <td>2020</td>\n",
       "      <td>138439</td>\n",
       "      <td>Semi-Auto</td>\n",
       "      <td>1000</td>\n",
       "      <td>145</td>\n",
       "      <td>22.1</td>\n",
       "      <td>4.0</td>\n",
       "    </tr>\n",
       "    <tr>\n",
       "      <th>5902</th>\n",
       "      <td>2018</td>\n",
       "      <td>135771</td>\n",
       "      <td>Semi-Auto</td>\n",
       "      <td>19000</td>\n",
       "      <td>145</td>\n",
       "      <td>21.4</td>\n",
       "      <td>4.0</td>\n",
       "    </tr>\n",
       "    <tr>\n",
       "      <th>7864</th>\n",
       "      <td>2018</td>\n",
       "      <td>135124</td>\n",
       "      <td>Semi-Auto</td>\n",
       "      <td>18234</td>\n",
       "      <td>150</td>\n",
       "      <td>21.4</td>\n",
       "      <td>4.0</td>\n",
       "    </tr>\n",
       "    <tr>\n",
       "      <th>8673</th>\n",
       "      <td>2019</td>\n",
       "      <td>134219</td>\n",
       "      <td>Semi-Auto</td>\n",
       "      <td>1000</td>\n",
       "      <td>145</td>\n",
       "      <td>24.8</td>\n",
       "      <td>4.0</td>\n",
       "    </tr>\n",
       "    <tr>\n",
       "      <th>6210</th>\n",
       "      <td>2019</td>\n",
       "      <td>129990</td>\n",
       "      <td>Automatic</td>\n",
       "      <td>1000</td>\n",
       "      <td>145</td>\n",
       "      <td>24.8</td>\n",
       "      <td>4.0</td>\n",
       "    </tr>\n",
       "    <tr>\n",
       "      <th>4759</th>\n",
       "      <td>2019</td>\n",
       "      <td>126000</td>\n",
       "      <td>Automatic</td>\n",
       "      <td>250</td>\n",
       "      <td>145</td>\n",
       "      <td>24.6</td>\n",
       "      <td>4.0</td>\n",
       "    </tr>\n",
       "    <tr>\n",
       "      <th>2647</th>\n",
       "      <td>2019</td>\n",
       "      <td>125796</td>\n",
       "      <td>Automatic</td>\n",
       "      <td>637</td>\n",
       "      <td>145</td>\n",
       "      <td>24.8</td>\n",
       "      <td>4.0</td>\n",
       "    </tr>\n",
       "    <tr>\n",
       "      <th>6223</th>\n",
       "      <td>2019</td>\n",
       "      <td>124999</td>\n",
       "      <td>Automatic</td>\n",
       "      <td>1500</td>\n",
       "      <td>145</td>\n",
       "      <td>31.7</td>\n",
       "      <td>4.0</td>\n",
       "    </tr>\n",
       "  </tbody>\n",
       "</table>\n",
       "</div>"
      ],
      "text/plain": [
       "       year   price transmission  mileage  tax   mpg  engineSize\n",
       "6199   2020  159999    Semi-Auto     1350  145  21.4         4.0\n",
       "10044  2020  154998    Automatic     3000  150  21.4         4.0\n",
       "5      2011  149948    Automatic     3000  570  21.4         6.2\n",
       "8737   2019  140319    Semi-Auto      785  150  22.1         4.0\n",
       "6386   2018  139995    Semi-Auto    13046  145  21.4         4.0\n",
       "8      2019  139948    Automatic    12000  145  21.4         4.0\n",
       "9133   2019  139559    Semi-Auto     1000  145  22.1         4.0\n",
       "8821   2020  138439    Semi-Auto     1000  145  22.1         4.0\n",
       "5902   2018  135771    Semi-Auto    19000  145  21.4         4.0\n",
       "7864   2018  135124    Semi-Auto    18234  150  21.4         4.0\n",
       "8673   2019  134219    Semi-Auto     1000  145  24.8         4.0\n",
       "6210   2019  129990    Automatic     1000  145  24.8         4.0\n",
       "4759   2019  126000    Automatic      250  145  24.6         4.0\n",
       "2647   2019  125796    Automatic      637  145  24.8         4.0\n",
       "6223   2019  124999    Automatic     1500  145  31.7         4.0"
      ]
     },
     "execution_count": 11,
     "metadata": {},
     "output_type": "execute_result"
    }
   ],
   "source": [
    "data.sort_values(\"price\", ascending=False).head(15)"
   ]
  },
  {
   "cell_type": "code",
   "execution_count": 12,
   "id": "25d5568c",
   "metadata": {},
   "outputs": [],
   "source": [
    "newData = data.sort_values(\"price\", ascending=False).iloc[131:]"
   ]
  },
  {
   "cell_type": "code",
   "execution_count": 13,
   "id": "724a26cc",
   "metadata": {},
   "outputs": [
    {
     "data": {
      "text/html": [
       "<div>\n",
       "<style scoped>\n",
       "    .dataframe tbody tr th:only-of-type {\n",
       "        vertical-align: middle;\n",
       "    }\n",
       "\n",
       "    .dataframe tbody tr th {\n",
       "        vertical-align: top;\n",
       "    }\n",
       "\n",
       "    .dataframe thead th {\n",
       "        text-align: right;\n",
       "    }\n",
       "</style>\n",
       "<table border=\"1\" class=\"dataframe\">\n",
       "  <thead>\n",
       "    <tr style=\"text-align: right;\">\n",
       "      <th></th>\n",
       "      <th>year</th>\n",
       "      <th>price</th>\n",
       "      <th>mileage</th>\n",
       "      <th>tax</th>\n",
       "      <th>mpg</th>\n",
       "      <th>engineSize</th>\n",
       "    </tr>\n",
       "  </thead>\n",
       "  <tbody>\n",
       "    <tr>\n",
       "      <th>count</th>\n",
       "      <td>12988.000000</td>\n",
       "      <td>12988.000000</td>\n",
       "      <td>12988.000000</td>\n",
       "      <td>12988.000000</td>\n",
       "      <td>12988.000000</td>\n",
       "      <td>12988.000000</td>\n",
       "    </tr>\n",
       "    <tr>\n",
       "      <th>mean</th>\n",
       "      <td>2017.281876</td>\n",
       "      <td>24074.926933</td>\n",
       "      <td>22132.741146</td>\n",
       "      <td>129.689714</td>\n",
       "      <td>55.437142</td>\n",
       "      <td>2.050901</td>\n",
       "    </tr>\n",
       "    <tr>\n",
       "      <th>std</th>\n",
       "      <td>2.228515</td>\n",
       "      <td>9866.224575</td>\n",
       "      <td>21196.776401</td>\n",
       "      <td>65.183076</td>\n",
       "      <td>15.025999</td>\n",
       "      <td>0.532596</td>\n",
       "    </tr>\n",
       "    <tr>\n",
       "      <th>min</th>\n",
       "      <td>1970.000000</td>\n",
       "      <td>650.000000</td>\n",
       "      <td>1.000000</td>\n",
       "      <td>0.000000</td>\n",
       "      <td>1.100000</td>\n",
       "      <td>0.000000</td>\n",
       "    </tr>\n",
       "    <tr>\n",
       "      <th>25%</th>\n",
       "      <td>2016.000000</td>\n",
       "      <td>17357.500000</td>\n",
       "      <td>6322.000000</td>\n",
       "      <td>125.000000</td>\n",
       "      <td>45.600000</td>\n",
       "      <td>1.675000</td>\n",
       "    </tr>\n",
       "    <tr>\n",
       "      <th>50%</th>\n",
       "      <td>2018.000000</td>\n",
       "      <td>22299.000000</td>\n",
       "      <td>15369.500000</td>\n",
       "      <td>145.000000</td>\n",
       "      <td>56.500000</td>\n",
       "      <td>2.000000</td>\n",
       "    </tr>\n",
       "    <tr>\n",
       "      <th>75%</th>\n",
       "      <td>2019.000000</td>\n",
       "      <td>28706.000000</td>\n",
       "      <td>31982.250000</td>\n",
       "      <td>145.000000</td>\n",
       "      <td>64.200000</td>\n",
       "      <td>2.100000</td>\n",
       "    </tr>\n",
       "    <tr>\n",
       "      <th>max</th>\n",
       "      <td>2020.000000</td>\n",
       "      <td>65990.000000</td>\n",
       "      <td>259000.000000</td>\n",
       "      <td>580.000000</td>\n",
       "      <td>217.300000</td>\n",
       "      <td>6.200000</td>\n",
       "    </tr>\n",
       "  </tbody>\n",
       "</table>\n",
       "</div>"
      ],
      "text/plain": [
       "               year         price        mileage           tax           mpg  \\\n",
       "count  12988.000000  12988.000000   12988.000000  12988.000000  12988.000000   \n",
       "mean    2017.281876  24074.926933   22132.741146    129.689714     55.437142   \n",
       "std        2.228515   9866.224575   21196.776401     65.183076     15.025999   \n",
       "min     1970.000000    650.000000       1.000000      0.000000      1.100000   \n",
       "25%     2016.000000  17357.500000    6322.000000    125.000000     45.600000   \n",
       "50%     2018.000000  22299.000000   15369.500000    145.000000     56.500000   \n",
       "75%     2019.000000  28706.000000   31982.250000    145.000000     64.200000   \n",
       "max     2020.000000  65990.000000  259000.000000    580.000000    217.300000   \n",
       "\n",
       "         engineSize  \n",
       "count  12988.000000  \n",
       "mean       2.050901  \n",
       "std        0.532596  \n",
       "min        0.000000  \n",
       "25%        1.675000  \n",
       "50%        2.000000  \n",
       "75%        2.100000  \n",
       "max        6.200000  "
      ]
     },
     "execution_count": 13,
     "metadata": {},
     "output_type": "execute_result"
    }
   ],
   "source": [
    "newData.describe()"
   ]
  },
  {
   "cell_type": "code",
   "execution_count": 14,
   "id": "49d0f020",
   "metadata": {},
   "outputs": [
    {
     "data": {
      "text/plain": [
       "<seaborn.axisgrid.FacetGrid at 0x2119b3e8880>"
      ]
     },
     "execution_count": 14,
     "metadata": {},
     "output_type": "execute_result"
    },
    {
     "data": {
      "image/png": "[encoded data removed]",
      "text/plain": [
       "<Figure size 360x360 with 1 Axes>"
      ]
     },
     "metadata": {
      "needs_background": "light"
     },
     "output_type": "display_data"
    }
   ],
   "source": [
    "sns.displot(newData[\"price\"])\n",
    "#Daha normal bir dağılım elde etmiş olduk"
   ]
  },
  {
   "cell_type": "code",
   "execution_count": 15,
   "id": "f2f9d37b",
   "metadata": {},
   "outputs": [
    {
     "data": {
      "text/plain": [
       "year\n",
       "1970    24999.000000\n",
       "1997     9995.000000\n",
       "1998     8605.000000\n",
       "1999     5995.000000\n",
       "2000     5743.333333\n",
       "2001     4957.900000\n",
       "2002     5820.444444\n",
       "2003     4878.000000\n",
       "2004     4727.615385\n",
       "2005     4426.111111\n",
       "2006     4036.875000\n",
       "2007     5136.045455\n",
       "2008     6967.437500\n",
       "2009     6166.764706\n",
       "2010     8308.473684\n",
       "2011     8913.459459\n",
       "2012    10845.140351\n",
       "2013    11939.842466\n",
       "2014    14042.936864\n",
       "2015    16647.822222\n",
       "2016    19223.558943\n",
       "2017    21356.280421\n",
       "2018    24800.844506\n",
       "2019    30289.524832\n",
       "2020    34234.794872\n",
       "Name: price, dtype: float64"
      ]
     },
     "execution_count": 15,
     "metadata": {},
     "output_type": "execute_result"
    }
   ],
   "source": [
    "newData.groupby(\"year\").mean()[\"price\"]"
   ]
  },
  {
   "cell_type": "markdown",
   "id": "144078f9",
   "metadata": {},
   "source": [
    "1970 yılında satılmış bir klasik araç yüksek fiyatla satılmış olmalı bu outlier da modellerimizin yanlış kararlar vermesine sebep olabilir."
   ]
  },
  {
   "cell_type": "code",
   "execution_count": 16,
   "id": "17dd667d",
   "metadata": {},
   "outputs": [],
   "source": [
    "newData = newData[newData.year != 1970]"
   ]
  },
  {
   "cell_type": "code",
   "execution_count": 17,
   "id": "19d5e28a",
   "metadata": {},
   "outputs": [
    {
     "data": {
      "text/plain": [
       "year\n",
       "1997     9995.000000\n",
       "1998     8605.000000\n",
       "1999     5995.000000\n",
       "2000     5743.333333\n",
       "2001     4957.900000\n",
       "2002     5820.444444\n",
       "2003     4878.000000\n",
       "2004     4727.615385\n",
       "2005     4426.111111\n",
       "2006     4036.875000\n",
       "2007     5136.045455\n",
       "2008     6967.437500\n",
       "2009     6166.764706\n",
       "2010     8308.473684\n",
       "2011     8913.459459\n",
       "2012    10845.140351\n",
       "2013    11939.842466\n",
       "2014    14042.936864\n",
       "2015    16647.822222\n",
       "2016    19223.558943\n",
       "2017    21356.280421\n",
       "2018    24800.844506\n",
       "2019    30289.524832\n",
       "2020    34234.794872\n",
       "Name: price, dtype: float64"
      ]
     },
     "execution_count": 17,
     "metadata": {},
     "output_type": "execute_result"
    }
   ],
   "source": [
    "newData.groupby(\"year\").mean()[\"price\"]"
   ]
  },
  {
   "cell_type": "code",
   "execution_count": 18,
   "id": "25cad347",
   "metadata": {},
   "outputs": [],
   "source": [
    "newData = newData.drop(\"transmission\", axis=1)\n",
    "# Tranmission sayısal değer olmadığından onu da verimizden çıkarıyoruz"
   ]
  },
  {
   "cell_type": "code",
   "execution_count": 19,
   "id": "c51d1ef3",
   "metadata": {},
   "outputs": [],
   "source": [
    "data = newData\n",
    "y = data[\"price\"].values\n",
    "x = data.drop(\"price\", axis=1).values"
   ]
  },
  {
   "cell_type": "code",
   "execution_count": 20,
   "id": "6b6051db",
   "metadata": {},
   "outputs": [
    {
     "data": {
      "text/plain": [
       "array([65990, 65990, 65980, ...,  1490,  1350,   650], dtype=int64)"
      ]
     },
     "execution_count": 20,
     "metadata": {},
     "output_type": "execute_result"
    }
   ],
   "source": [
    "y"
   ]
  },
  {
   "cell_type": "code",
   "execution_count": 21,
   "id": "43cbd74a",
   "metadata": {},
   "outputs": [
    {
     "data": {
      "text/plain": [
       "array([[2.01900e+03, 5.07600e+03, 1.50000e+02, 3.04000e+01, 3.00000e+00],\n",
       "       [2.02000e+03, 9.99000e+02, 1.45000e+02, 2.80000e+01, 4.00000e+00],\n",
       "       [2.02000e+03, 3.99900e+03, 1.45000e+02, 2.80000e+01, 4.00000e+00],\n",
       "       ...,\n",
       "       [2.00000e+03, 8.70000e+04, 2.65000e+02, 2.72000e+01, 3.20000e+00],\n",
       "       [2.01000e+03, 1.16126e+05, 1.45000e+02, 5.43000e+01, 2.00000e+00],\n",
       "       [2.00300e+03, 1.09090e+05, 2.35000e+02, 4.00000e+01, 1.40000e+00]])"
      ]
     },
     "execution_count": 21,
     "metadata": {},
     "output_type": "execute_result"
    }
   ],
   "source": [
    "x"
   ]
  },
  {
   "cell_type": "code",
   "execution_count": 22,
   "id": "d31357b2",
   "metadata": {},
   "outputs": [],
   "source": [
    "from sklearn.model_selection import train_test_split"
   ]
  },
  {
   "cell_type": "code",
   "execution_count": 23,
   "id": "ff236e2d",
   "metadata": {},
   "outputs": [],
   "source": [
    "x_train, x_test, y_train, y_test = train_test_split(x,y,test_size=0.30, random_state=10)"
   ]
  },
  {
   "cell_type": "code",
   "execution_count": 24,
   "id": "5b6a3d20",
   "metadata": {},
   "outputs": [
    {
     "data": {
      "text/plain": [
       "9090"
      ]
     },
     "execution_count": 24,
     "metadata": {},
     "output_type": "execute_result"
    }
   ],
   "source": [
    "len(x_train)"
   ]
  },
  {
   "cell_type": "code",
   "execution_count": 25,
   "id": "f0f871de",
   "metadata": {},
   "outputs": [
    {
     "data": {
      "text/plain": [
       "3897"
      ]
     },
     "execution_count": 25,
     "metadata": {},
     "output_type": "execute_result"
    }
   ],
   "source": [
    "len(x_test)"
   ]
  },
  {
   "cell_type": "code",
   "execution_count": 26,
   "id": "4f1b05a6",
   "metadata": {},
   "outputs": [],
   "source": [
    "from sklearn.preprocessing import MinMaxScaler"
   ]
  },
  {
   "cell_type": "code",
   "execution_count": 27,
   "id": "67001ea0",
   "metadata": {},
   "outputs": [],
   "source": [
    "scaler = MinMaxScaler()"
   ]
  },
  {
   "cell_type": "code",
   "execution_count": 28,
   "id": "24b0cbb8",
   "metadata": {},
   "outputs": [],
   "source": [
    "x_train = scaler.fit_transform(x_train)"
   ]
  },
  {
   "cell_type": "code",
   "execution_count": 29,
   "id": "7512be18",
   "metadata": {},
   "outputs": [],
   "source": [
    "x_test = scaler.transform(x_test)"
   ]
  },
  {
   "cell_type": "code",
   "execution_count": 30,
   "id": "81435291",
   "metadata": {},
   "outputs": [],
   "source": [
    "from tensorflow.keras.models import Sequential\n",
    "from tensorflow.keras.layers import Dense"
   ]
  },
  {
   "cell_type": "code",
   "execution_count": 31,
   "id": "f061b14e",
   "metadata": {},
   "outputs": [
    {
     "data": {
      "text/plain": [
       "(9090, 5)"
      ]
     },
     "execution_count": 31,
     "metadata": {},
     "output_type": "execute_result"
    }
   ],
   "source": [
    "x_train.shape"
   ]
  },
  {
   "cell_type": "code",
   "execution_count": 32,
   "id": "644e67d0",
   "metadata": {},
   "outputs": [],
   "source": [
    "model = Sequential()\n",
    "\n",
    "model.add(Dense(12, activation=\"relu\"))\n",
    "model.add(Dense(12, activation=\"relu\"))\n",
    "model.add(Dense(12, activation=\"relu\"))\n",
    "model.add(Dense(12, activation=\"relu\"))\n",
    "\n",
    "model.add(Dense(1))\n",
    "\n",
    "model.compile(optimizer=\"adam\", loss=\"mse\")"
   ]
  },
  {
   "cell_type": "code",
   "execution_count": 33,
   "id": "b3fa288f",
   "metadata": {},
   "outputs": [
    {
     "name": "stdout",
     "output_type": "stream",
     "text": [
      "Epoch 1/300\n",
      "37/37 [==============================] - 0s 3ms/step - loss: 672140992.0000 - val_loss: 688095488.0000\n",
      "Epoch 2/300\n",
      "37/37 [==============================] - 0s 1ms/step - loss: 672109952.0000 - val_loss: 688041216.0000\n",
      "Epoch 3/300\n",
      "37/37 [==============================] - 0s 1ms/step - loss: 672000320.0000 - val_loss: 687829376.0000\n",
      "Epoch 4/300\n",
      "37/37 [==============================] - 0s 1ms/step - loss: 671574528.0000 - val_loss: 687042304.0000\n",
      "Epoch 5/300\n",
      "37/37 [==============================] - 0s 1ms/step - loss: 670176960.0000 - val_loss: 684691712.0000\n",
      "Epoch 6/300\n",
      "37/37 [==============================] - 0s 1ms/step - loss: 666438784.0000 - val_loss: 678909440.0000\n",
      "Epoch 7/300\n",
      "37/37 [==============================] - 0s 1ms/step - loss: 657997248.0000 - val_loss: 666708032.0000\n",
      "Epoch 8/300\n",
      "37/37 [==============================] - 0s 1ms/step - loss: 641328256.0000 - val_loss: 643878912.0000\n",
      "Epoch 9/300\n",
      "37/37 [==============================] - 0s 1ms/step - loss: 611913984.0000 - val_loss: 605502848.0000\n",
      "Epoch 10/300\n",
      "37/37 [==============================] - 0s 1ms/step - loss: 564900224.0000 - val_loss: 546852992.0000\n",
      "Epoch 11/300\n",
      "37/37 [==============================] - 0s 1ms/step - loss: 496112640.0000 - val_loss: 465131680.0000\n",
      "Epoch 12/300\n",
      "37/37 [==============================] - 0s 1ms/step - loss: 405870400.0000 - val_loss: 363714144.0000\n",
      "Epoch 13/300\n",
      "37/37 [==============================] - 0s 1ms/step - loss: 302484448.0000 - val_loss: 258234784.0000\n",
      "Epoch 14/300\n",
      "37/37 [==============================] - 0s 1ms/step - loss: 205546640.0000 - val_loss: 169438400.0000\n",
      "Epoch 15/300\n",
      "37/37 [==============================] - 0s 1ms/step - loss: 135498464.0000 - val_loss: 116426376.0000\n",
      "Epoch 16/300\n",
      "37/37 [==============================] - 0s 1ms/step - loss: 100930416.0000 - val_loss: 95865616.0000\n",
      "Epoch 17/300\n",
      "37/37 [==============================] - 0s 1ms/step - loss: 90263008.0000 - val_loss: 90397488.0000\n",
      "Epoch 18/300\n",
      "37/37 [==============================] - 0s 1ms/step - loss: 87974624.0000 - val_loss: 89023632.0000\n",
      "Epoch 19/300\n",
      "37/37 [==============================] - 0s 1ms/step - loss: 87191088.0000 - val_loss: 88355296.0000\n",
      "Epoch 20/300\n",
      "37/37 [==============================] - 0s 1ms/step - loss: 86594256.0000 - val_loss: 87779176.0000\n",
      "Epoch 21/300\n",
      "37/37 [==============================] - 0s 1ms/step - loss: 86052888.0000 - val_loss: 87235440.0000\n",
      "Epoch 22/300\n",
      "37/37 [==============================] - 0s 1ms/step - loss: 85518232.0000 - val_loss: 86710712.0000\n",
      "Epoch 23/300\n",
      "37/37 [==============================] - 0s 1ms/step - loss: 85008160.0000 - val_loss: 86197272.0000\n",
      "Epoch 24/300\n",
      "37/37 [==============================] - 0s 1ms/step - loss: 84528048.0000 - val_loss: 85718352.0000\n",
      "Epoch 25/300\n",
      "37/37 [==============================] - 0s 1ms/step - loss: 84029336.0000 - val_loss: 85220160.0000\n",
      "Epoch 26/300\n",
      "37/37 [==============================] - 0s 1ms/step - loss: 83557776.0000 - val_loss: 84781688.0000\n",
      "Epoch 27/300\n",
      "37/37 [==============================] - 0s 1ms/step - loss: 83086512.0000 - val_loss: 84317520.0000\n",
      "Epoch 28/300\n",
      "37/37 [==============================] - 0s 1ms/step - loss: 82629624.0000 - val_loss: 83839168.0000\n",
      "Epoch 29/300\n",
      "37/37 [==============================] - 0s 1ms/step - loss: 82168760.0000 - val_loss: 83399784.0000\n",
      "Epoch 30/300\n",
      "37/37 [==============================] - 0s 1ms/step - loss: 81723808.0000 - val_loss: 83004440.0000\n",
      "Epoch 31/300\n",
      "37/37 [==============================] - 0s 1ms/step - loss: 81270792.0000 - val_loss: 82517392.0000\n",
      "Epoch 32/300\n",
      "37/37 [==============================] - 0s 1ms/step - loss: 80829192.0000 - val_loss: 82044552.0000\n",
      "Epoch 33/300\n",
      "37/37 [==============================] - 0s 1ms/step - loss: 80380056.0000 - val_loss: 81629896.0000\n",
      "Epoch 34/300\n",
      "37/37 [==============================] - 0s 1ms/step - loss: 79933464.0000 - val_loss: 81200864.0000\n",
      "Epoch 35/300\n",
      "37/37 [==============================] - 0s 1ms/step - loss: 79495504.0000 - val_loss: 80758680.0000\n",
      "Epoch 36/300\n",
      "37/37 [==============================] - 0s 1ms/step - loss: 79058584.0000 - val_loss: 80302480.0000\n",
      "Epoch 37/300\n",
      "37/37 [==============================] - 0s 1ms/step - loss: 78615072.0000 - val_loss: 79888664.0000\n",
      "Epoch 38/300\n",
      "37/37 [==============================] - 0s 1ms/step - loss: 78180016.0000 - val_loss: 79418456.0000\n",
      "Epoch 39/300\n",
      "37/37 [==============================] - 0s 1ms/step - loss: 77735016.0000 - val_loss: 78992240.0000\n",
      "Epoch 40/300\n",
      "37/37 [==============================] - 0s 1ms/step - loss: 77291920.0000 - val_loss: 78574192.0000\n",
      "Epoch 41/300\n",
      "37/37 [==============================] - 0s 1ms/step - loss: 76863704.0000 - val_loss: 78118240.0000\n",
      "Epoch 42/300\n",
      "37/37 [==============================] - 0s 1ms/step - loss: 76412232.0000 - val_loss: 77707472.0000\n",
      "Epoch 43/300\n",
      "37/37 [==============================] - 0s 1ms/step - loss: 75967648.0000 - val_loss: 77261880.0000\n",
      "Epoch 44/300\n",
      "37/37 [==============================] - 0s 1ms/step - loss: 75522600.0000 - val_loss: 76829752.0000\n",
      "Epoch 45/300\n",
      "37/37 [==============================] - 0s 1ms/step - loss: 75106656.0000 - val_loss: 76395672.0000\n",
      "Epoch 46/300\n",
      "37/37 [==============================] - 0s 1ms/step - loss: 74656704.0000 - val_loss: 75940456.0000\n",
      "Epoch 47/300\n",
      "37/37 [==============================] - 0s 1ms/step - loss: 74194496.0000 - val_loss: 75493944.0000\n",
      "Epoch 48/300\n",
      "37/37 [==============================] - 0s 1ms/step - loss: 73755496.0000 - val_loss: 75100720.0000\n",
      "Epoch 49/300\n",
      "37/37 [==============================] - 0s 1ms/step - loss: 73308792.0000 - val_loss: 74625024.0000\n",
      "Epoch 50/300\n",
      "37/37 [==============================] - 0s 1ms/step - loss: 72855504.0000 - val_loss: 74166816.0000\n",
      "Epoch 51/300\n",
      "37/37 [==============================] - 0s 1ms/step - loss: 72403552.0000 - val_loss: 73706144.0000\n",
      "Epoch 52/300\n",
      "37/37 [==============================] - 0s 1ms/step - loss: 71942504.0000 - val_loss: 73301344.0000\n",
      "Epoch 53/300\n",
      "37/37 [==============================] - 0s 1ms/step - loss: 71497248.0000 - val_loss: 72797040.0000\n",
      "Epoch 54/300\n",
      "37/37 [==============================] - 0s 1ms/step - loss: 71033384.0000 - val_loss: 72378480.0000\n",
      "Epoch 55/300\n",
      "37/37 [==============================] - 0s 1ms/step - loss: 70564896.0000 - val_loss: 71910680.0000\n",
      "Epoch 56/300\n",
      "37/37 [==============================] - 0s 1ms/step - loss: 70098792.0000 - val_loss: 71438008.0000\n",
      "Epoch 57/300\n",
      "37/37 [==============================] - 0s 1ms/step - loss: 69629984.0000 - val_loss: 71006128.0000\n",
      "Epoch 58/300\n",
      "37/37 [==============================] - 0s 1ms/step - loss: 69161824.0000 - val_loss: 70525944.0000\n",
      "Epoch 59/300\n",
      "37/37 [==============================] - 0s 1ms/step - loss: 68676360.0000 - val_loss: 70055752.0000\n",
      "Epoch 60/300\n",
      "37/37 [==============================] - 0s 1ms/step - loss: 68192368.0000 - val_loss: 69552648.0000\n",
      "Epoch 61/300\n",
      "37/37 [==============================] - 0s 1ms/step - loss: 67709160.0000 - val_loss: 69073960.0000\n",
      "Epoch 62/300\n",
      "37/37 [==============================] - 0s 1ms/step - loss: 67231648.0000 - val_loss: 68589752.0000\n",
      "Epoch 63/300\n",
      "37/37 [==============================] - 0s 1ms/step - loss: 66721892.0000 - val_loss: 68098176.0000\n",
      "Epoch 64/300\n",
      "37/37 [==============================] - 0s 1ms/step - loss: 66216044.0000 - val_loss: 67574432.0000\n",
      "Epoch 65/300\n",
      "37/37 [==============================] - 0s 1ms/step - loss: 65722552.0000 - val_loss: 67112576.0000\n",
      "Epoch 66/300\n",
      "37/37 [==============================] - 0s 1ms/step - loss: 65198124.0000 - val_loss: 66584720.0000\n",
      "Epoch 67/300\n",
      "37/37 [==============================] - 0s 1ms/step - loss: 64705836.0000 - val_loss: 66033596.0000\n",
      "Epoch 68/300\n",
      "37/37 [==============================] - 0s 1ms/step - loss: 64156160.0000 - val_loss: 65547380.0000\n",
      "Epoch 69/300\n",
      "37/37 [==============================] - 0s 1ms/step - loss: 63623408.0000 - val_loss: 64992180.0000\n",
      "Epoch 70/300\n",
      "37/37 [==============================] - 0s 1ms/step - loss: 63091412.0000 - val_loss: 64448520.0000\n",
      "Epoch 71/300\n",
      "37/37 [==============================] - 0s 1ms/step - loss: 62532208.0000 - val_loss: 63907052.0000\n",
      "Epoch 72/300\n"
     ]
    },
    {
     "name": "stdout",
     "output_type": "stream",
     "text": [
      "37/37 [==============================] - 0s 1ms/step - loss: 61978492.0000 - val_loss: 63369780.0000\n",
      "Epoch 73/300\n",
      "37/37 [==============================] - 0s 1ms/step - loss: 61413780.0000 - val_loss: 62790580.0000\n",
      "Epoch 74/300\n",
      "37/37 [==============================] - 0s 1ms/step - loss: 60851128.0000 - val_loss: 62213912.0000\n",
      "Epoch 75/300\n",
      "37/37 [==============================] - 0s 1ms/step - loss: 60273216.0000 - val_loss: 61632516.0000\n",
      "Epoch 76/300\n",
      "37/37 [==============================] - 0s 1ms/step - loss: 59686564.0000 - val_loss: 61092484.0000\n",
      "Epoch 77/300\n",
      "37/37 [==============================] - 0s 1ms/step - loss: 59078488.0000 - val_loss: 60460776.0000\n",
      "Epoch 78/300\n",
      "37/37 [==============================] - 0s 1ms/step - loss: 58463368.0000 - val_loss: 59820796.0000\n",
      "Epoch 79/300\n",
      "37/37 [==============================] - 0s 1ms/step - loss: 57834392.0000 - val_loss: 59231924.0000\n",
      "Epoch 80/300\n",
      "37/37 [==============================] - 0s 1ms/step - loss: 57201600.0000 - val_loss: 58570584.0000\n",
      "Epoch 81/300\n",
      "37/37 [==============================] - 0s 1ms/step - loss: 56570660.0000 - val_loss: 57928456.0000\n",
      "Epoch 82/300\n",
      "37/37 [==============================] - 0s 1ms/step - loss: 55925016.0000 - val_loss: 57277284.0000\n",
      "Epoch 83/300\n",
      "37/37 [==============================] - 0s 1ms/step - loss: 55265148.0000 - val_loss: 56625076.0000\n",
      "Epoch 84/300\n",
      "37/37 [==============================] - 0s 1ms/step - loss: 54578668.0000 - val_loss: 55911536.0000\n",
      "Epoch 85/300\n",
      "37/37 [==============================] - 0s 1ms/step - loss: 53906036.0000 - val_loss: 55225664.0000\n",
      "Epoch 86/300\n",
      "37/37 [==============================] - 0s 1ms/step - loss: 53211748.0000 - val_loss: 54508504.0000\n",
      "Epoch 87/300\n",
      "37/37 [==============================] - 0s 1ms/step - loss: 52474508.0000 - val_loss: 53821660.0000\n",
      "Epoch 88/300\n",
      "37/37 [==============================] - 0s 1ms/step - loss: 51760200.0000 - val_loss: 53053232.0000\n",
      "Epoch 89/300\n",
      "37/37 [==============================] - 0s 1ms/step - loss: 51028164.0000 - val_loss: 52319980.0000\n",
      "Epoch 90/300\n",
      "37/37 [==============================] - 0s 1ms/step - loss: 50261692.0000 - val_loss: 51538104.0000\n",
      "Epoch 91/300\n",
      "37/37 [==============================] - 0s 1ms/step - loss: 49516664.0000 - val_loss: 50771584.0000\n",
      "Epoch 92/300\n",
      "37/37 [==============================] - 0s 1ms/step - loss: 48739184.0000 - val_loss: 49996648.0000\n",
      "Epoch 93/300\n",
      "37/37 [==============================] - 0s 1ms/step - loss: 47958336.0000 - val_loss: 49198568.0000\n",
      "Epoch 94/300\n",
      "37/37 [==============================] - 0s 1ms/step - loss: 47191260.0000 - val_loss: 48388028.0000\n",
      "Epoch 95/300\n",
      "37/37 [==============================] - 0s 1ms/step - loss: 46377660.0000 - val_loss: 47595300.0000\n",
      "Epoch 96/300\n",
      "37/37 [==============================] - 0s 1ms/step - loss: 45551000.0000 - val_loss: 46733708.0000\n",
      "Epoch 97/300\n",
      "37/37 [==============================] - 0s 1ms/step - loss: 44748548.0000 - val_loss: 45909364.0000\n",
      "Epoch 98/300\n",
      "37/37 [==============================] - 0s 1ms/step - loss: 43936320.0000 - val_loss: 45075460.0000\n",
      "Epoch 99/300\n",
      "37/37 [==============================] - 0s 1ms/step - loss: 43158620.0000 - val_loss: 44290112.0000\n",
      "Epoch 100/300\n",
      "37/37 [==============================] - 0s 1ms/step - loss: 42350088.0000 - val_loss: 43441368.0000\n",
      "Epoch 101/300\n",
      "37/37 [==============================] - 0s 1ms/step - loss: 41548056.0000 - val_loss: 42618760.0000\n",
      "Epoch 102/300\n",
      "37/37 [==============================] - 0s 1ms/step - loss: 40759296.0000 - val_loss: 41817012.0000\n",
      "Epoch 103/300\n",
      "37/37 [==============================] - 0s 1ms/step - loss: 40001536.0000 - val_loss: 40987200.0000\n",
      "Epoch 104/300\n",
      "37/37 [==============================] - 0s 1ms/step - loss: 39241864.0000 - val_loss: 40219004.0000\n",
      "Epoch 105/300\n",
      "37/37 [==============================] - 0s 1ms/step - loss: 38491152.0000 - val_loss: 39467028.0000\n",
      "Epoch 106/300\n",
      "37/37 [==============================] - 0s 1ms/step - loss: 37782968.0000 - val_loss: 38725092.0000\n",
      "Epoch 107/300\n",
      "37/37 [==============================] - 0s 1ms/step - loss: 37111612.0000 - val_loss: 38011752.0000\n",
      "Epoch 108/300\n",
      "37/37 [==============================] - 0s 1ms/step - loss: 36445176.0000 - val_loss: 37359312.0000\n",
      "Epoch 109/300\n",
      "37/37 [==============================] - 0s 1ms/step - loss: 35823836.0000 - val_loss: 36710832.0000\n",
      "Epoch 110/300\n",
      "37/37 [==============================] - 0s 1ms/step - loss: 35240140.0000 - val_loss: 36091040.0000\n",
      "Epoch 111/300\n",
      "37/37 [==============================] - 0s 1ms/step - loss: 34677860.0000 - val_loss: 35488804.0000\n",
      "Epoch 112/300\n",
      "37/37 [==============================] - 0s 1ms/step - loss: 34122260.0000 - val_loss: 34923140.0000\n",
      "Epoch 113/300\n",
      "37/37 [==============================] - 0s 1ms/step - loss: 33634016.0000 - val_loss: 34382676.0000\n",
      "Epoch 114/300\n",
      "37/37 [==============================] - 0s 1ms/step - loss: 33129396.0000 - val_loss: 33875724.0000\n",
      "Epoch 115/300\n",
      "37/37 [==============================] - 0s 1ms/step - loss: 32646434.0000 - val_loss: 33382884.0000\n",
      "Epoch 116/300\n",
      "37/37 [==============================] - 0s 1ms/step - loss: 32189834.0000 - val_loss: 32882480.0000\n",
      "Epoch 117/300\n",
      "37/37 [==============================] - 0s 1ms/step - loss: 31733738.0000 - val_loss: 32412938.0000\n",
      "Epoch 118/300\n",
      "37/37 [==============================] - 0s 1ms/step - loss: 31278026.0000 - val_loss: 31991942.0000\n",
      "Epoch 119/300\n",
      "37/37 [==============================] - 0s 1ms/step - loss: 30865766.0000 - val_loss: 31541120.0000\n",
      "Epoch 120/300\n",
      "37/37 [==============================] - 0s 1ms/step - loss: 30386490.0000 - val_loss: 30991836.0000\n",
      "Epoch 121/300\n",
      "37/37 [==============================] - 0s 1ms/step - loss: 29890532.0000 - val_loss: 30489454.0000\n",
      "Epoch 122/300\n",
      "37/37 [==============================] - 0s 1ms/step - loss: 29427406.0000 - val_loss: 30013600.0000\n",
      "Epoch 123/300\n",
      "37/37 [==============================] - 0s 1ms/step - loss: 28936774.0000 - val_loss: 29538532.0000\n",
      "Epoch 124/300\n",
      "37/37 [==============================] - 0s 1ms/step - loss: 28482114.0000 - val_loss: 29127210.0000\n",
      "Epoch 125/300\n",
      "37/37 [==============================] - 0s 1ms/step - loss: 28058706.0000 - val_loss: 28712532.0000\n",
      "Epoch 126/300\n",
      "37/37 [==============================] - 0s 1ms/step - loss: 27690974.0000 - val_loss: 28363912.0000\n",
      "Epoch 127/300\n",
      "37/37 [==============================] - 0s 1ms/step - loss: 27391466.0000 - val_loss: 28073698.0000\n",
      "Epoch 128/300\n",
      "37/37 [==============================] - 0s 1ms/step - loss: 27097834.0000 - val_loss: 27896216.0000\n",
      "Epoch 129/300\n",
      "37/37 [==============================] - 0s 1ms/step - loss: 26877006.0000 - val_loss: 27610666.0000\n",
      "Epoch 130/300\n",
      "37/37 [==============================] - 0s 1ms/step - loss: 26687048.0000 - val_loss: 27386532.0000\n",
      "Epoch 131/300\n",
      "37/37 [==============================] - 0s 1ms/step - loss: 26456448.0000 - val_loss: 27209416.0000\n",
      "Epoch 132/300\n",
      "37/37 [==============================] - 0s 1ms/step - loss: 26281498.0000 - val_loss: 27040362.0000\n",
      "Epoch 133/300\n",
      "37/37 [==============================] - 0s 1ms/step - loss: 26091986.0000 - val_loss: 26850920.0000\n",
      "Epoch 134/300\n",
      "37/37 [==============================] - 0s 1ms/step - loss: 25933576.0000 - val_loss: 26702404.0000\n",
      "Epoch 135/300\n",
      "37/37 [==============================] - 0s 1ms/step - loss: 25780398.0000 - val_loss: 26541822.0000\n",
      "Epoch 136/300\n",
      "37/37 [==============================] - 0s 1ms/step - loss: 25638160.0000 - val_loss: 26405524.0000\n",
      "Epoch 137/300\n",
      "37/37 [==============================] - 0s 1ms/step - loss: 25526432.0000 - val_loss: 26251554.0000\n",
      "Epoch 138/300\n",
      "37/37 [==============================] - 0s 1ms/step - loss: 25349344.0000 - val_loss: 26114748.0000\n",
      "Epoch 139/300\n",
      "37/37 [==============================] - 0s 1ms/step - loss: 25211590.0000 - val_loss: 25953444.0000\n",
      "Epoch 140/300\n",
      "37/37 [==============================] - 0s 1ms/step - loss: 25043142.0000 - val_loss: 25811714.0000\n",
      "Epoch 141/300\n",
      "37/37 [==============================] - 0s 1ms/step - loss: 24874584.0000 - val_loss: 25634918.0000\n",
      "Epoch 142/300\n",
      "37/37 [==============================] - 0s 1ms/step - loss: 24699338.0000 - val_loss: 25520286.0000\n",
      "Epoch 143/300\n"
     ]
    },
    {
     "name": "stdout",
     "output_type": "stream",
     "text": [
      "37/37 [==============================] - 0s 1ms/step - loss: 24551598.0000 - val_loss: 25307884.0000\n",
      "Epoch 144/300\n",
      "37/37 [==============================] - 0s 1ms/step - loss: 24349388.0000 - val_loss: 25105270.0000\n",
      "Epoch 145/300\n",
      "37/37 [==============================] - 0s 1ms/step - loss: 24153742.0000 - val_loss: 24950690.0000\n",
      "Epoch 146/300\n",
      "37/37 [==============================] - 0s 1ms/step - loss: 23960654.0000 - val_loss: 24732568.0000\n",
      "Epoch 147/300\n",
      "37/37 [==============================] - 0s 1ms/step - loss: 23728558.0000 - val_loss: 24552746.0000\n",
      "Epoch 148/300\n",
      "37/37 [==============================] - 0s 1ms/step - loss: 23537746.0000 - val_loss: 24369884.0000\n",
      "Epoch 149/300\n",
      "37/37 [==============================] - 0s 1ms/step - loss: 23338306.0000 - val_loss: 24227620.0000\n",
      "Epoch 150/300\n",
      "37/37 [==============================] - 0s 1ms/step - loss: 23172568.0000 - val_loss: 24089556.0000\n",
      "Epoch 151/300\n",
      "37/37 [==============================] - 0s 1ms/step - loss: 23029822.0000 - val_loss: 23980364.0000\n",
      "Epoch 152/300\n",
      "37/37 [==============================] - 0s 1ms/step - loss: 22922236.0000 - val_loss: 23856266.0000\n",
      "Epoch 153/300\n",
      "37/37 [==============================] - 0s 1ms/step - loss: 22789700.0000 - val_loss: 23750664.0000\n",
      "Epoch 154/300\n",
      "37/37 [==============================] - 0s 1ms/step - loss: 22683830.0000 - val_loss: 23653850.0000\n",
      "Epoch 155/300\n",
      "37/37 [==============================] - 0s 1ms/step - loss: 22570064.0000 - val_loss: 23551924.0000\n",
      "Epoch 156/300\n",
      "37/37 [==============================] - 0s 1ms/step - loss: 22451454.0000 - val_loss: 23445592.0000\n",
      "Epoch 157/300\n",
      "37/37 [==============================] - 0s 1ms/step - loss: 22309146.0000 - val_loss: 23314866.0000\n",
      "Epoch 158/300\n",
      "37/37 [==============================] - 0s 1ms/step - loss: 22164952.0000 - val_loss: 23194492.0000\n",
      "Epoch 159/300\n",
      "37/37 [==============================] - 0s 1ms/step - loss: 22034394.0000 - val_loss: 23083090.0000\n",
      "Epoch 160/300\n",
      "37/37 [==============================] - 0s 1ms/step - loss: 21898550.0000 - val_loss: 22983130.0000\n",
      "Epoch 161/300\n",
      "37/37 [==============================] - 0s 1ms/step - loss: 21806230.0000 - val_loss: 22881078.0000\n",
      "Epoch 162/300\n",
      "37/37 [==============================] - 0s 1ms/step - loss: 21707760.0000 - val_loss: 22875082.0000\n",
      "Epoch 163/300\n",
      "37/37 [==============================] - 0s 1ms/step - loss: 21611288.0000 - val_loss: 22758720.0000\n",
      "Epoch 164/300\n",
      "37/37 [==============================] - 0s 1ms/step - loss: 21545872.0000 - val_loss: 22683172.0000\n",
      "Epoch 165/300\n",
      "37/37 [==============================] - 0s 1ms/step - loss: 21486530.0000 - val_loss: 22602642.0000\n",
      "Epoch 166/300\n",
      "37/37 [==============================] - 0s 1ms/step - loss: 21405042.0000 - val_loss: 22545942.0000\n",
      "Epoch 167/300\n",
      "37/37 [==============================] - 0s 1ms/step - loss: 21351184.0000 - val_loss: 22551826.0000\n",
      "Epoch 168/300\n",
      "37/37 [==============================] - 0s 1ms/step - loss: 21324696.0000 - val_loss: 22476608.0000\n",
      "Epoch 169/300\n",
      "37/37 [==============================] - 0s 1ms/step - loss: 21242212.0000 - val_loss: 22403432.0000\n",
      "Epoch 170/300\n",
      "37/37 [==============================] - 0s 1ms/step - loss: 21193974.0000 - val_loss: 22368122.0000\n",
      "Epoch 171/300\n",
      "37/37 [==============================] - 0s 1ms/step - loss: 21138636.0000 - val_loss: 22382232.0000\n",
      "Epoch 172/300\n",
      "37/37 [==============================] - 0s 1ms/step - loss: 21090900.0000 - val_loss: 22303552.0000\n",
      "Epoch 173/300\n",
      "37/37 [==============================] - 0s 1ms/step - loss: 21044678.0000 - val_loss: 22233196.0000\n",
      "Epoch 174/300\n",
      "37/37 [==============================] - 0s 1ms/step - loss: 20977094.0000 - val_loss: 22195834.0000\n",
      "Epoch 175/300\n",
      "37/37 [==============================] - 0s 1ms/step - loss: 20926148.0000 - val_loss: 22175332.0000\n",
      "Epoch 176/300\n",
      "37/37 [==============================] - 0s 1ms/step - loss: 20893826.0000 - val_loss: 22111766.0000\n",
      "Epoch 177/300\n",
      "37/37 [==============================] - 0s 1ms/step - loss: 20817186.0000 - val_loss: 22082972.0000\n",
      "Epoch 178/300\n",
      "37/37 [==============================] - 0s 1ms/step - loss: 20766948.0000 - val_loss: 22023796.0000\n",
      "Epoch 179/300\n",
      "37/37 [==============================] - 0s 1ms/step - loss: 20713238.0000 - val_loss: 21995472.0000\n",
      "Epoch 180/300\n",
      "37/37 [==============================] - 0s 1ms/step - loss: 20707222.0000 - val_loss: 21939488.0000\n",
      "Epoch 181/300\n",
      "37/37 [==============================] - 0s 1ms/step - loss: 20623416.0000 - val_loss: 21909108.0000\n",
      "Epoch 182/300\n",
      "37/37 [==============================] - 0s 1ms/step - loss: 20575296.0000 - val_loss: 21861066.0000\n",
      "Epoch 183/300\n",
      "37/37 [==============================] - 0s 1ms/step - loss: 20525258.0000 - val_loss: 21824488.0000\n",
      "Epoch 184/300\n",
      "37/37 [==============================] - 0s 1ms/step - loss: 20478798.0000 - val_loss: 21816234.0000\n",
      "Epoch 185/300\n",
      "37/37 [==============================] - 0s 1ms/step - loss: 20433846.0000 - val_loss: 21775828.0000\n",
      "Epoch 186/300\n",
      "37/37 [==============================] - 0s 1ms/step - loss: 20422592.0000 - val_loss: 21755738.0000\n",
      "Epoch 187/300\n",
      "37/37 [==============================] - 0s 1ms/step - loss: 20376098.0000 - val_loss: 21742266.0000\n",
      "Epoch 188/300\n",
      "37/37 [==============================] - 0s 1ms/step - loss: 20346662.0000 - val_loss: 21694762.0000\n",
      "Epoch 189/300\n",
      "37/37 [==============================] - 0s 1ms/step - loss: 20287922.0000 - val_loss: 21673762.0000\n",
      "Epoch 190/300\n",
      "37/37 [==============================] - 0s 1ms/step - loss: 20292836.0000 - val_loss: 21643594.0000\n",
      "Epoch 191/300\n",
      "37/37 [==============================] - 0s 1ms/step - loss: 20226158.0000 - val_loss: 21617618.0000\n",
      "Epoch 192/300\n",
      "37/37 [==============================] - 0s 1ms/step - loss: 20208780.0000 - val_loss: 21589838.0000\n",
      "Epoch 193/300\n",
      "37/37 [==============================] - 0s 1ms/step - loss: 20190374.0000 - val_loss: 21570720.0000\n",
      "Epoch 194/300\n",
      "37/37 [==============================] - 0s 1ms/step - loss: 20153172.0000 - val_loss: 21535732.0000\n",
      "Epoch 195/300\n",
      "37/37 [==============================] - 0s 1ms/step - loss: 20121072.0000 - val_loss: 21512550.0000\n",
      "Epoch 196/300\n",
      "37/37 [==============================] - 0s 1ms/step - loss: 20084978.0000 - val_loss: 21511528.0000\n",
      "Epoch 197/300\n",
      "37/37 [==============================] - 0s 1ms/step - loss: 20105314.0000 - val_loss: 21466812.0000\n",
      "Epoch 198/300\n",
      "37/37 [==============================] - 0s 1ms/step - loss: 20043256.0000 - val_loss: 21447698.0000\n",
      "Epoch 199/300\n",
      "37/37 [==============================] - 0s 1ms/step - loss: 20018720.0000 - val_loss: 21445790.0000\n",
      "Epoch 200/300\n",
      "37/37 [==============================] - 0s 1ms/step - loss: 20030434.0000 - val_loss: 21415618.0000\n",
      "Epoch 201/300\n",
      "37/37 [==============================] - 0s 1ms/step - loss: 20001942.0000 - val_loss: 21413604.0000\n",
      "Epoch 202/300\n",
      "37/37 [==============================] - 0s 1ms/step - loss: 19938922.0000 - val_loss: 21399436.0000\n",
      "Epoch 203/300\n",
      "37/37 [==============================] - 0s 1ms/step - loss: 19926468.0000 - val_loss: 21361304.0000\n",
      "Epoch 204/300\n",
      "37/37 [==============================] - 0s 1ms/step - loss: 19925548.0000 - val_loss: 21345130.0000\n",
      "Epoch 205/300\n",
      "37/37 [==============================] - 0s 1ms/step - loss: 19890634.0000 - val_loss: 21330866.0000\n",
      "Epoch 206/300\n",
      "37/37 [==============================] - 0s 1ms/step - loss: 19882382.0000 - val_loss: 21312538.0000\n",
      "Epoch 207/300\n",
      "37/37 [==============================] - 0s 1ms/step - loss: 19857728.0000 - val_loss: 21299776.0000\n",
      "Epoch 208/300\n",
      "37/37 [==============================] - 0s 1ms/step - loss: 19841536.0000 - val_loss: 21318906.0000\n",
      "Epoch 209/300\n",
      "37/37 [==============================] - 0s 1ms/step - loss: 19836810.0000 - val_loss: 21267476.0000\n",
      "Epoch 210/300\n",
      "37/37 [==============================] - 0s 1ms/step - loss: 19811590.0000 - val_loss: 21257622.0000\n",
      "Epoch 211/300\n",
      "37/37 [==============================] - 0s 1ms/step - loss: 19783256.0000 - val_loss: 21264522.0000\n",
      "Epoch 212/300\n",
      "37/37 [==============================] - 0s 1ms/step - loss: 19780990.0000 - val_loss: 21219860.0000\n",
      "Epoch 213/300\n",
      "37/37 [==============================] - 0s 1ms/step - loss: 19751534.0000 - val_loss: 21210398.0000\n",
      "Epoch 214/300\n"
     ]
    },
    {
     "name": "stdout",
     "output_type": "stream",
     "text": [
      "37/37 [==============================] - 0s 1ms/step - loss: 19729692.0000 - val_loss: 21196934.0000\n",
      "Epoch 215/300\n",
      "37/37 [==============================] - 0s 1ms/step - loss: 19709228.0000 - val_loss: 21184578.0000\n",
      "Epoch 216/300\n",
      "37/37 [==============================] - 0s 1ms/step - loss: 19713400.0000 - val_loss: 21188904.0000\n",
      "Epoch 217/300\n",
      "37/37 [==============================] - 0s 1ms/step - loss: 19673056.0000 - val_loss: 21161222.0000\n",
      "Epoch 218/300\n",
      "37/37 [==============================] - 0s 1ms/step - loss: 19663314.0000 - val_loss: 21139902.0000\n",
      "Epoch 219/300\n",
      "37/37 [==============================] - 0s 1ms/step - loss: 19667296.0000 - val_loss: 21155678.0000\n",
      "Epoch 220/300\n",
      "37/37 [==============================] - 0s 1ms/step - loss: 19649398.0000 - val_loss: 21110812.0000\n",
      "Epoch 221/300\n",
      "37/37 [==============================] - 0s 1ms/step - loss: 19645894.0000 - val_loss: 21107876.0000\n",
      "Epoch 222/300\n",
      "37/37 [==============================] - 0s 1ms/step - loss: 19608976.0000 - val_loss: 21086440.0000\n",
      "Epoch 223/300\n",
      "37/37 [==============================] - 0s 1ms/step - loss: 19595794.0000 - val_loss: 21066986.0000\n",
      "Epoch 224/300\n",
      "37/37 [==============================] - 0s 1ms/step - loss: 19571576.0000 - val_loss: 21053858.0000\n",
      "Epoch 225/300\n",
      "37/37 [==============================] - 0s 1ms/step - loss: 19570150.0000 - val_loss: 21044154.0000\n",
      "Epoch 226/300\n",
      "37/37 [==============================] - 0s 1ms/step - loss: 19545868.0000 - val_loss: 21027310.0000\n",
      "Epoch 227/300\n",
      "37/37 [==============================] - 0s 1ms/step - loss: 19540992.0000 - val_loss: 21023174.0000\n",
      "Epoch 228/300\n",
      "37/37 [==============================] - 0s 1ms/step - loss: 19512440.0000 - val_loss: 21019630.0000\n",
      "Epoch 229/300\n",
      "37/37 [==============================] - 0s 1ms/step - loss: 19511536.0000 - val_loss: 20988326.0000\n",
      "Epoch 230/300\n",
      "37/37 [==============================] - 0s 1ms/step - loss: 19500128.0000 - val_loss: 20992116.0000\n",
      "Epoch 231/300\n",
      "37/37 [==============================] - 0s 1ms/step - loss: 19472192.0000 - val_loss: 20960948.0000\n",
      "Epoch 232/300\n",
      "37/37 [==============================] - 0s 1ms/step - loss: 19465806.0000 - val_loss: 20954594.0000\n",
      "Epoch 233/300\n",
      "37/37 [==============================] - 0s 1ms/step - loss: 19441512.0000 - val_loss: 20936376.0000\n",
      "Epoch 234/300\n",
      "37/37 [==============================] - 0s 1ms/step - loss: 19424400.0000 - val_loss: 20933880.0000\n",
      "Epoch 235/300\n",
      "37/37 [==============================] - 0s 1ms/step - loss: 19415304.0000 - val_loss: 20923444.0000\n",
      "Epoch 236/300\n",
      "37/37 [==============================] - 0s 1ms/step - loss: 19404428.0000 - val_loss: 20881298.0000\n",
      "Epoch 237/300\n",
      "37/37 [==============================] - 0s 1ms/step - loss: 19400080.0000 - val_loss: 20901788.0000\n",
      "Epoch 238/300\n",
      "37/37 [==============================] - 0s 1ms/step - loss: 19417466.0000 - val_loss: 20878334.0000\n",
      "Epoch 239/300\n",
      "37/37 [==============================] - 0s 1ms/step - loss: 19376260.0000 - val_loss: 20827324.0000\n",
      "Epoch 240/300\n",
      "37/37 [==============================] - 0s 1ms/step - loss: 19336554.0000 - val_loss: 20838412.0000\n",
      "Epoch 241/300\n",
      "37/37 [==============================] - 0s 1ms/step - loss: 19338194.0000 - val_loss: 20796558.0000\n",
      "Epoch 242/300\n",
      "37/37 [==============================] - 0s 1ms/step - loss: 19310974.0000 - val_loss: 20771546.0000\n",
      "Epoch 243/300\n",
      "37/37 [==============================] - 0s 1ms/step - loss: 19285846.0000 - val_loss: 20858672.0000\n",
      "Epoch 244/300\n",
      "37/37 [==============================] - 0s 1ms/step - loss: 19302642.0000 - val_loss: 20747498.0000\n",
      "Epoch 245/300\n",
      "37/37 [==============================] - 0s 1ms/step - loss: 19290800.0000 - val_loss: 20745044.0000\n",
      "Epoch 246/300\n",
      "37/37 [==============================] - 0s 1ms/step - loss: 19274432.0000 - val_loss: 20772494.0000\n",
      "Epoch 247/300\n",
      "37/37 [==============================] - 0s 1ms/step - loss: 19259728.0000 - val_loss: 20704426.0000\n",
      "Epoch 248/300\n",
      "37/37 [==============================] - 0s 1ms/step - loss: 19229114.0000 - val_loss: 20698426.0000\n",
      "Epoch 249/300\n",
      "37/37 [==============================] - 0s 1ms/step - loss: 19222680.0000 - val_loss: 20679468.0000\n",
      "Epoch 250/300\n",
      "37/37 [==============================] - 0s 1ms/step - loss: 19207324.0000 - val_loss: 20675790.0000\n",
      "Epoch 251/300\n",
      "37/37 [==============================] - 0s 1ms/step - loss: 19205342.0000 - val_loss: 20675724.0000\n",
      "Epoch 252/300\n",
      "37/37 [==============================] - 0s 1ms/step - loss: 19187530.0000 - val_loss: 20654192.0000\n",
      "Epoch 253/300\n",
      "37/37 [==============================] - 0s 1ms/step - loss: 19168292.0000 - val_loss: 20638746.0000\n",
      "Epoch 254/300\n",
      "37/37 [==============================] - 0s 1ms/step - loss: 19156570.0000 - val_loss: 20632234.0000\n",
      "Epoch 255/300\n",
      "37/37 [==============================] - 0s 1ms/step - loss: 19150738.0000 - val_loss: 20633930.0000\n",
      "Epoch 256/300\n",
      "37/37 [==============================] - 0s 1ms/step - loss: 19156978.0000 - val_loss: 20614276.0000\n",
      "Epoch 257/300\n",
      "37/37 [==============================] - 0s 1ms/step - loss: 19132348.0000 - val_loss: 20625864.0000\n",
      "Epoch 258/300\n",
      "37/37 [==============================] - 0s 1ms/step - loss: 19118438.0000 - val_loss: 20609366.0000\n",
      "Epoch 259/300\n",
      "37/37 [==============================] - 0s 1ms/step - loss: 19156206.0000 - val_loss: 20609454.0000\n",
      "Epoch 260/300\n",
      "37/37 [==============================] - 0s 1ms/step - loss: 19137434.0000 - val_loss: 20599926.0000\n",
      "Epoch 261/300\n",
      "37/37 [==============================] - 0s 1ms/step - loss: 19098632.0000 - val_loss: 20565804.0000\n",
      "Epoch 262/300\n",
      "37/37 [==============================] - 0s 1ms/step - loss: 19077292.0000 - val_loss: 20572704.0000\n",
      "Epoch 263/300\n",
      "37/37 [==============================] - 0s 1ms/step - loss: 19093224.0000 - val_loss: 20586142.0000\n",
      "Epoch 264/300\n",
      "37/37 [==============================] - 0s 1ms/step - loss: 19055238.0000 - val_loss: 20555900.0000\n",
      "Epoch 265/300\n",
      "37/37 [==============================] - 0s 1ms/step - loss: 19052514.0000 - val_loss: 20534794.0000\n",
      "Epoch 266/300\n",
      "37/37 [==============================] - 0s 1ms/step - loss: 19045320.0000 - val_loss: 20531524.0000\n",
      "Epoch 267/300\n",
      "37/37 [==============================] - 0s 1ms/step - loss: 19046944.0000 - val_loss: 20522848.0000\n",
      "Epoch 268/300\n",
      "37/37 [==============================] - 0s 1ms/step - loss: 19041332.0000 - val_loss: 20553570.0000\n",
      "Epoch 269/300\n",
      "37/37 [==============================] - 0s 1ms/step - loss: 19028788.0000 - val_loss: 20522410.0000\n",
      "Epoch 270/300\n",
      "37/37 [==============================] - 0s 1ms/step - loss: 19018872.0000 - val_loss: 20494118.0000\n",
      "Epoch 271/300\n",
      "37/37 [==============================] - 0s 1ms/step - loss: 18993350.0000 - val_loss: 20488708.0000\n",
      "Epoch 272/300\n",
      "37/37 [==============================] - 0s 1ms/step - loss: 18990104.0000 - val_loss: 20482946.0000\n",
      "Epoch 273/300\n",
      "37/37 [==============================] - 0s 1ms/step - loss: 18976256.0000 - val_loss: 20509944.0000\n",
      "Epoch 274/300\n",
      "37/37 [==============================] - 0s 1ms/step - loss: 18986814.0000 - val_loss: 20449306.0000\n",
      "Epoch 275/300\n",
      "37/37 [==============================] - 0s 1ms/step - loss: 18964416.0000 - val_loss: 20449812.0000\n",
      "Epoch 276/300\n",
      "37/37 [==============================] - 0s 1ms/step - loss: 18964684.0000 - val_loss: 20497428.0000\n",
      "Epoch 277/300\n",
      "37/37 [==============================] - 0s 1ms/step - loss: 18968944.0000 - val_loss: 20424720.0000\n",
      "Epoch 278/300\n",
      "37/37 [==============================] - 0s 1ms/step - loss: 18951176.0000 - val_loss: 20490552.0000\n",
      "Epoch 279/300\n",
      "37/37 [==============================] - 0s 1ms/step - loss: 18927170.0000 - val_loss: 20422468.0000\n",
      "Epoch 280/300\n",
      "37/37 [==============================] - 0s 1ms/step - loss: 18919244.0000 - val_loss: 20397942.0000\n",
      "Epoch 281/300\n",
      "37/37 [==============================] - 0s 1ms/step - loss: 18924806.0000 - val_loss: 20401198.0000\n",
      "Epoch 282/300\n",
      "37/37 [==============================] - 0s 1ms/step - loss: 18905054.0000 - val_loss: 20382392.0000\n",
      "Epoch 283/300\n",
      "37/37 [==============================] - 0s 1ms/step - loss: 18905962.0000 - val_loss: 20380182.0000\n",
      "Epoch 284/300\n",
      "37/37 [==============================] - 0s 1ms/step - loss: 18886308.0000 - val_loss: 20424856.0000\n",
      "Epoch 285/300\n"
     ]
    },
    {
     "name": "stdout",
     "output_type": "stream",
     "text": [
      "37/37 [==============================] - 0s 1ms/step - loss: 18900198.0000 - val_loss: 20395510.0000\n",
      "Epoch 286/300\n",
      "37/37 [==============================] - 0s 1ms/step - loss: 18870564.0000 - val_loss: 20387674.0000\n",
      "Epoch 287/300\n",
      "37/37 [==============================] - 0s 1ms/step - loss: 18882054.0000 - val_loss: 20372032.0000\n",
      "Epoch 288/300\n",
      "37/37 [==============================] - 0s 1ms/step - loss: 18866070.0000 - val_loss: 20340910.0000\n",
      "Epoch 289/300\n",
      "37/37 [==============================] - 0s 1ms/step - loss: 18863582.0000 - val_loss: 20335336.0000\n",
      "Epoch 290/300\n",
      "37/37 [==============================] - 0s 1ms/step - loss: 18846586.0000 - val_loss: 20344012.0000\n",
      "Epoch 291/300\n",
      "37/37 [==============================] - 0s 1ms/step - loss: 18820376.0000 - val_loss: 20341964.0000\n",
      "Epoch 292/300\n",
      "37/37 [==============================] - 0s 1ms/step - loss: 18824542.0000 - val_loss: 20307806.0000\n",
      "Epoch 293/300\n",
      "37/37 [==============================] - 0s 1ms/step - loss: 18809712.0000 - val_loss: 20304832.0000\n",
      "Epoch 294/300\n",
      "37/37 [==============================] - 0s 1ms/step - loss: 18803934.0000 - val_loss: 20297340.0000\n",
      "Epoch 295/300\n",
      "37/37 [==============================] - 0s 1ms/step - loss: 18795030.0000 - val_loss: 20300012.0000\n",
      "Epoch 296/300\n",
      "37/37 [==============================] - 0s 1ms/step - loss: 18795408.0000 - val_loss: 20287328.0000\n",
      "Epoch 297/300\n",
      "37/37 [==============================] - 0s 1ms/step - loss: 18793154.0000 - val_loss: 20274752.0000\n",
      "Epoch 298/300\n",
      "37/37 [==============================] - 0s 1ms/step - loss: 18782350.0000 - val_loss: 20273494.0000\n",
      "Epoch 299/300\n",
      "37/37 [==============================] - 0s 1ms/step - loss: 18794366.0000 - val_loss: 20270662.0000\n",
      "Epoch 300/300\n",
      "37/37 [==============================] - 0s 1ms/step - loss: 18766504.0000 - val_loss: 20280752.0000\n"
     ]
    },
    {
     "data": {
      "text/plain": [
       "<keras.callbacks.History at 0x211a3e0be80>"
      ]
     },
     "execution_count": 33,
     "metadata": {},
     "output_type": "execute_result"
    }
   ],
   "source": [
    "model.fit(x = x_train, y = y_train, validation_data=(x_test,y_test), batch_size=250, epochs=300,)"
   ]
  },
  {
   "cell_type": "code",
   "execution_count": 34,
   "id": "2e17443b",
   "metadata": {},
   "outputs": [
    {
     "data": {
      "text/html": [
       "<div>\n",
       "<style scoped>\n",
       "    .dataframe tbody tr th:only-of-type {\n",
       "        vertical-align: middle;\n",
       "    }\n",
       "\n",
       "    .dataframe tbody tr th {\n",
       "        vertical-align: top;\n",
       "    }\n",
       "\n",
       "    .dataframe thead th {\n",
       "        text-align: right;\n",
       "    }\n",
       "</style>\n",
       "<table border=\"1\" class=\"dataframe\">\n",
       "  <thead>\n",
       "    <tr style=\"text-align: right;\">\n",
       "      <th></th>\n",
       "      <th>loss</th>\n",
       "      <th>val_loss</th>\n",
       "    </tr>\n",
       "  </thead>\n",
       "  <tbody>\n",
       "    <tr>\n",
       "      <th>0</th>\n",
       "      <td>672140992.0</td>\n",
       "      <td>688095488.0</td>\n",
       "    </tr>\n",
       "    <tr>\n",
       "      <th>1</th>\n",
       "      <td>672109952.0</td>\n",
       "      <td>688041216.0</td>\n",
       "    </tr>\n",
       "    <tr>\n",
       "      <th>2</th>\n",
       "      <td>672000320.0</td>\n",
       "      <td>687829376.0</td>\n",
       "    </tr>\n",
       "    <tr>\n",
       "      <th>3</th>\n",
       "      <td>671574528.0</td>\n",
       "      <td>687042304.0</td>\n",
       "    </tr>\n",
       "    <tr>\n",
       "      <th>4</th>\n",
       "      <td>670176960.0</td>\n",
       "      <td>684691712.0</td>\n",
       "    </tr>\n",
       "  </tbody>\n",
       "</table>\n",
       "</div>"
      ],
      "text/plain": [
       "          loss     val_loss\n",
       "0  672140992.0  688095488.0\n",
       "1  672109952.0  688041216.0\n",
       "2  672000320.0  687829376.0\n",
       "3  671574528.0  687042304.0\n",
       "4  670176960.0  684691712.0"
      ]
     },
     "execution_count": 34,
     "metadata": {},
     "output_type": "execute_result"
    }
   ],
   "source": [
    "lossData = pd.DataFrame(model.history.history)\n",
    "lossData.head()"
   ]
  },
  {
   "cell_type": "code",
   "execution_count": 35,
   "id": "c9a83b4e",
   "metadata": {},
   "outputs": [
    {
     "data": {
      "text/plain": [
       "<AxesSubplot:>"
      ]
     },
     "execution_count": 35,
     "metadata": {},
     "output_type": "execute_result"
    },
    {
     "data": {
      "image/png": "[encoded data removed]",
      "text/plain": [
       "<Figure size 432x288 with 1 Axes>"
      ]
     },
     "metadata": {
      "needs_background": "light"
     },
     "output_type": "display_data"
    }
   ],
   "source": [
    "lossData.plot()"
   ]
  },
  {
   "cell_type": "markdown",
   "id": "c70eab85",
   "metadata": {},
   "source": [
    "* Çizgiler yukardan başlayıp aşağıya doğru birlikte hareket ediyor mu?\n",
    "* loss veya val_loss çizgisi aşağı doğru diğerinden ayrılmaya başlıyosa overfitting durumu var demektir model düzeltilmeli."
   ]
  },
  {
   "cell_type": "code",
   "execution_count": 36,
   "id": "e27a9e85",
   "metadata": {},
   "outputs": [],
   "source": [
    "from sklearn.metrics import mean_squared_error, mean_absolute_error"
   ]
  },
  {
   "cell_type": "code",
   "execution_count": 37,
   "id": "f8956155",
   "metadata": {},
   "outputs": [],
   "source": [
    "predictionArray = model.predict(x_test)"
   ]
  },
  {
   "cell_type": "code",
   "execution_count": 38,
   "id": "9acd2f6b",
   "metadata": {},
   "outputs": [
    {
     "data": {
      "text/plain": [
       "array([[22552.78 ],\n",
       "       [23470.469],\n",
       "       [25265.283],\n",
       "       ...,\n",
       "       [26561.148],\n",
       "       [12850.55 ],\n",
       "       [24957.84 ]], dtype=float32)"
      ]
     },
     "execution_count": 38,
     "metadata": {},
     "output_type": "execute_result"
    }
   ],
   "source": [
    "predictionArray"
   ]
  },
  {
   "cell_type": "code",
   "execution_count": 39,
   "id": "14096007",
   "metadata": {},
   "outputs": [
    {
     "data": {
      "text/plain": [
       "3208.368785585669"
      ]
     },
     "execution_count": 39,
     "metadata": {},
     "output_type": "execute_result"
    }
   ],
   "source": [
    "mean_absolute_error(y_test, predictionArray)"
   ]
  },
  {
   "cell_type": "code",
   "execution_count": 40,
   "id": "87743acb",
   "metadata": {},
   "outputs": [
    {
     "data": {
      "text/plain": [
       "<matplotlib.collections.PathCollection at 0x211ad347850>"
      ]
     },
     "execution_count": 40,
     "metadata": {},
     "output_type": "execute_result"
    },
    {
     "data": {
      "image/png": "[encoded data removed]",
      "text/plain": [
       "<Figure size 432x288 with 1 Axes>"
      ]
     },
     "metadata": {
      "needs_background": "light"
     },
     "output_type": "display_data"
    }
   ],
   "source": [
    "plt.scatter(y_test,predictionArray)"
   ]
  },
  {
   "cell_type": "code",
   "execution_count": 41,
   "id": "79d6b889",
   "metadata": {},
   "outputs": [
    {
     "data": {
      "text/plain": [
       "year           2020.0\n",
       "price         65980.0\n",
       "mileage        3999.0\n",
       "tax             145.0\n",
       "mpg              28.0\n",
       "engineSize        4.0\n",
       "Name: 3191, dtype: float64"
      ]
     },
     "execution_count": 41,
     "metadata": {},
     "output_type": "execute_result"
    }
   ],
   "source": [
    "data.iloc[2]"
   ]
  },
  {
   "cell_type": "code",
   "execution_count": 42,
   "id": "2ec1c306",
   "metadata": {},
   "outputs": [
    {
     "data": {
      "text/plain": [
       "year          2020.0\n",
       "mileage       3999.0\n",
       "tax            145.0\n",
       "mpg             28.0\n",
       "engineSize       4.0\n",
       "Name: 3191, dtype: float64"
      ]
     },
     "execution_count": 42,
     "metadata": {},
     "output_type": "execute_result"
    }
   ],
   "source": [
    "newCar = data.drop(\"price\", axis=1).iloc[2]\n",
    "newCar"
   ]
  },
  {
   "cell_type": "code",
   "execution_count": 43,
   "id": "b89e25e1",
   "metadata": {},
   "outputs": [],
   "source": [
    "newCar = scaler.transform(newCar.values.reshape(-1,5))"
   ]
  },
  {
   "cell_type": "code",
   "execution_count": 44,
   "id": "076f7282",
   "metadata": {},
   "outputs": [
    {
     "data": {
      "text/plain": [
       "array([[63239.695]], dtype=float32)"
      ]
     },
     "execution_count": 44,
     "metadata": {},
     "output_type": "execute_result"
    }
   ],
   "source": [
    "model.predict(newCar)"
   ]
  }
 ],
 "metadata": {
  "kernelspec": {
   "display_name": "Python 3 (ipykernel)",
   "language": "python",
   "name": "python3"
  },
  "language_info": {
   "codemirror_mode": {
    "name": "ipython",
    "version": 3
   },
   "file_extension": ".py",
   "mimetype": "text/x-python",
   "name": "python",
   "nbconvert_exporter": "python",
   "pygments_lexer": "ipython3",
   "version": "3.9.7"
  }
 },
 "nbformat": 4,
 "nbformat_minor": 5
}
